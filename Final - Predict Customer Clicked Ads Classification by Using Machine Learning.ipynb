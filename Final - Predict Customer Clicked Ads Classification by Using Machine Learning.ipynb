{
 "cells": [
  {
   "cell_type": "markdown",
   "id": "49dd2787",
   "metadata": {},
   "source": [
    "- Name: Muhammad Rizki Achirlita\n",
    "- LinkedIn: [Muhammad Rizki Achirlita](https://www.linkedin.com/in/rizkiachr/)\n",
    "- Gmail: muh.rizkiachirlita@gmail.com\n"
   ]
  },
  {
   "cell_type": "markdown",
   "id": "707297cf",
   "metadata": {},
   "source": [
    "# LOAD DATASET"
   ]
  },
  {
   "cell_type": "code",
   "execution_count": 1,
   "id": "1bfea194",
   "metadata": {},
   "outputs": [],
   "source": [
    "## Basic Packages\n",
    "import pandas as pd\n",
    "import numpy as np\n",
    "import matplotlib.pyplot as plt\n",
    "import matplotlib.image as mpimg\n",
    "import seaborn as sns\n",
    "import warnings\n",
    "\n",
    "pd.set_option('display.max_columns', None)\n",
    "pd.set_option('display.max_rows', 99)\n",
    "warnings.filterwarnings('ignore')"
   ]
  },
  {
   "cell_type": "code",
   "execution_count": 2,
   "id": "1d7bcdfb",
   "metadata": {},
   "outputs": [
    {
     "data": {
      "text/html": [
       "<div>\n",
       "<style scoped>\n",
       "    .dataframe tbody tr th:only-of-type {\n",
       "        vertical-align: middle;\n",
       "    }\n",
       "\n",
       "    .dataframe tbody tr th {\n",
       "        vertical-align: top;\n",
       "    }\n",
       "\n",
       "    .dataframe thead th {\n",
       "        text-align: right;\n",
       "    }\n",
       "</style>\n",
       "<table border=\"1\" class=\"dataframe\">\n",
       "  <thead>\n",
       "    <tr style=\"text-align: right;\">\n",
       "      <th></th>\n",
       "      <th>Daily Time Spent on Site</th>\n",
       "      <th>Age</th>\n",
       "      <th>Area Income</th>\n",
       "      <th>Daily Internet Usage</th>\n",
       "      <th>Male</th>\n",
       "      <th>Timestamp</th>\n",
       "      <th>Clicked on Ad</th>\n",
       "      <th>city</th>\n",
       "      <th>province</th>\n",
       "      <th>category</th>\n",
       "    </tr>\n",
       "  </thead>\n",
       "  <tbody>\n",
       "    <tr>\n",
       "      <th>819</th>\n",
       "      <td>79.60</td>\n",
       "      <td>39</td>\n",
       "      <td>513745960.0</td>\n",
       "      <td>194.23</td>\n",
       "      <td>Perempuan</td>\n",
       "      <td>04/22/2016 7:48</td>\n",
       "      <td>No</td>\n",
       "      <td>Balikpapan</td>\n",
       "      <td>Kalimantan Timur</td>\n",
       "      <td>Travel</td>\n",
       "    </tr>\n",
       "    <tr>\n",
       "      <th>934</th>\n",
       "      <td>78.41</td>\n",
       "      <td>33</td>\n",
       "      <td>387580690.0</td>\n",
       "      <td>248.23</td>\n",
       "      <td>Laki-Laki</td>\n",
       "      <td>06/03/2016 4:51</td>\n",
       "      <td>No</td>\n",
       "      <td>Jakarta Timur</td>\n",
       "      <td>Daerah Khusus Ibukota Jakarta</td>\n",
       "      <td>Travel</td>\n",
       "    </tr>\n",
       "    <tr>\n",
       "      <th>565</th>\n",
       "      <td>79.97</td>\n",
       "      <td>26</td>\n",
       "      <td>432235860.0</td>\n",
       "      <td>185.45</td>\n",
       "      <td>Laki-Laki</td>\n",
       "      <td>01/08/2016 19:38</td>\n",
       "      <td>No</td>\n",
       "      <td>Medan</td>\n",
       "      <td>Sumatra Utara</td>\n",
       "      <td>Bank</td>\n",
       "    </tr>\n",
       "    <tr>\n",
       "      <th>176</th>\n",
       "      <td>60.72</td>\n",
       "      <td>44</td>\n",
       "      <td>300970600.0</td>\n",
       "      <td>105.69</td>\n",
       "      <td>Perempuan</td>\n",
       "      <td>02/28/2016 18:52</td>\n",
       "      <td>Yes</td>\n",
       "      <td>Medan</td>\n",
       "      <td>Sumatra Utara</td>\n",
       "      <td>Otomotif</td>\n",
       "    </tr>\n",
       "    <tr>\n",
       "      <th>28</th>\n",
       "      <td>70.20</td>\n",
       "      <td>34</td>\n",
       "      <td>228962580.0</td>\n",
       "      <td>119.20</td>\n",
       "      <td>Perempuan</td>\n",
       "      <td>04/14/2016 5:08</td>\n",
       "      <td>Yes</td>\n",
       "      <td>Pontianak</td>\n",
       "      <td>Kalimantan Barat</td>\n",
       "      <td>House</td>\n",
       "    </tr>\n",
       "  </tbody>\n",
       "</table>\n",
       "</div>"
      ],
      "text/plain": [
       "     Daily Time Spent on Site  Age  Area Income  Daily Internet Usage  \\\n",
       "819                     79.60   39  513745960.0                194.23   \n",
       "934                     78.41   33  387580690.0                248.23   \n",
       "565                     79.97   26  432235860.0                185.45   \n",
       "176                     60.72   44  300970600.0                105.69   \n",
       "28                      70.20   34  228962580.0                119.20   \n",
       "\n",
       "          Male         Timestamp Clicked on Ad           city  \\\n",
       "819  Perempuan   04/22/2016 7:48            No     Balikpapan   \n",
       "934  Laki-Laki   06/03/2016 4:51            No  Jakarta Timur   \n",
       "565  Laki-Laki  01/08/2016 19:38            No          Medan   \n",
       "176  Perempuan  02/28/2016 18:52           Yes          Medan   \n",
       "28   Perempuan   04/14/2016 5:08           Yes      Pontianak   \n",
       "\n",
       "                          province  category  \n",
       "819               Kalimantan Timur    Travel  \n",
       "934  Daerah Khusus Ibukota Jakarta    Travel  \n",
       "565                  Sumatra Utara      Bank  \n",
       "176                  Sumatra Utara  Otomotif  \n",
       "28                Kalimantan Barat     House  "
      ]
     },
     "execution_count": 2,
     "metadata": {},
     "output_type": "execute_result"
    }
   ],
   "source": [
    "df= pd.read_csv('Dataset/Clicked Ads Dataset.csv')\n",
    "df.sample(5)"
   ]
  },
  {
   "cell_type": "code",
   "execution_count": 3,
   "id": "4cc71124",
   "metadata": {},
   "outputs": [
    {
     "name": "stdout",
     "output_type": "stream",
     "text": [
      "<class 'pandas.core.frame.DataFrame'>\n",
      "RangeIndex: 1000 entries, 0 to 999\n",
      "Data columns (total 10 columns):\n",
      " #   Column                    Non-Null Count  Dtype  \n",
      "---  ------                    --------------  -----  \n",
      " 0   Daily Time Spent on Site  987 non-null    float64\n",
      " 1   Age                       1000 non-null   int64  \n",
      " 2   Area Income               987 non-null    float64\n",
      " 3   Daily Internet Usage      989 non-null    float64\n",
      " 4   Male                      997 non-null    object \n",
      " 5   Timestamp                 1000 non-null   object \n",
      " 6   Clicked on Ad             1000 non-null   object \n",
      " 7   city                      1000 non-null   object \n",
      " 8   province                  1000 non-null   object \n",
      " 9   category                  1000 non-null   object \n",
      "dtypes: float64(3), int64(1), object(6)\n",
      "memory usage: 78.2+ KB\n"
     ]
    }
   ],
   "source": [
    "df.info()"
   ]
  },
  {
   "cell_type": "code",
   "execution_count": 4,
   "id": "342bd47d",
   "metadata": {},
   "outputs": [
    {
     "data": {
      "text/plain": [
       "(1000, 10)"
      ]
     },
     "execution_count": 4,
     "metadata": {},
     "output_type": "execute_result"
    }
   ],
   "source": [
    "df.shape"
   ]
  },
  {
   "cell_type": "markdown",
   "id": "d6cad9a4",
   "metadata": {},
   "source": [
    "# EXPLORATORY DATA ANALYSIS"
   ]
  },
  {
   "cell_type": "markdown",
   "id": "f386262d",
   "metadata": {},
   "source": [
    "## Cleaning"
   ]
  },
  {
   "cell_type": "code",
   "execution_count": 5,
   "id": "2e7c4bbc",
   "metadata": {
    "scrolled": true
   },
   "outputs": [
    {
     "data": {
      "text/html": [
       "<div>\n",
       "<style scoped>\n",
       "    .dataframe tbody tr th:only-of-type {\n",
       "        vertical-align: middle;\n",
       "    }\n",
       "\n",
       "    .dataframe tbody tr th {\n",
       "        vertical-align: top;\n",
       "    }\n",
       "\n",
       "    .dataframe thead th {\n",
       "        text-align: right;\n",
       "    }\n",
       "</style>\n",
       "<table border=\"1\" class=\"dataframe\">\n",
       "  <thead>\n",
       "    <tr style=\"text-align: right;\">\n",
       "      <th></th>\n",
       "      <th>Tipe Data</th>\n",
       "      <th>Jumlah Value Unik</th>\n",
       "      <th>Jumlah Value Unik (%)</th>\n",
       "      <th>Jumlah Null</th>\n",
       "      <th>Jumlah Null (%)</th>\n",
       "      <th>Value</th>\n",
       "    </tr>\n",
       "    <tr>\n",
       "      <th>Variabel</th>\n",
       "      <th></th>\n",
       "      <th></th>\n",
       "      <th></th>\n",
       "      <th></th>\n",
       "      <th></th>\n",
       "      <th></th>\n",
       "    </tr>\n",
       "  </thead>\n",
       "  <tbody>\n",
       "    <tr>\n",
       "      <th>Daily Time Spent on Site</th>\n",
       "      <td>float64</td>\n",
       "      <td>890</td>\n",
       "      <td>89.0</td>\n",
       "      <td>13</td>\n",
       "      <td>1.3</td>\n",
       "      <td>[68.95, 80.23, 69.47, 74.15, 68.37, 59.99, 88....</td>\n",
       "    </tr>\n",
       "    <tr>\n",
       "      <th>Area Income</th>\n",
       "      <td>float64</td>\n",
       "      <td>987</td>\n",
       "      <td>98.7</td>\n",
       "      <td>13</td>\n",
       "      <td>1.3</td>\n",
       "      <td>[432837300.0, 479092950.0, 418501580.0, 383643...</td>\n",
       "    </tr>\n",
       "    <tr>\n",
       "      <th>Daily Internet Usage</th>\n",
       "      <td>float64</td>\n",
       "      <td>955</td>\n",
       "      <td>95.5</td>\n",
       "      <td>11</td>\n",
       "      <td>1.1</td>\n",
       "      <td>[256.09, 193.77, 236.5, 245.89, 225.58, 226.74...</td>\n",
       "    </tr>\n",
       "    <tr>\n",
       "      <th>Male</th>\n",
       "      <td>object</td>\n",
       "      <td>2</td>\n",
       "      <td>0.2</td>\n",
       "      <td>3</td>\n",
       "      <td>0.3</td>\n",
       "      <td>[Perempuan, Laki-Laki, nan]</td>\n",
       "    </tr>\n",
       "    <tr>\n",
       "      <th>Age</th>\n",
       "      <td>int64</td>\n",
       "      <td>43</td>\n",
       "      <td>4.3</td>\n",
       "      <td>0</td>\n",
       "      <td>0.0</td>\n",
       "      <td>[35, 31, 26, 29, 23, 33, 48, 30, 20, 49, 37, 2...</td>\n",
       "    </tr>\n",
       "    <tr>\n",
       "      <th>Timestamp</th>\n",
       "      <td>object</td>\n",
       "      <td>997</td>\n",
       "      <td>99.7</td>\n",
       "      <td>0</td>\n",
       "      <td>0.0</td>\n",
       "      <td>[03/27/2016 0:53, 04/04/2016 1:39, 03/13/2016 ...</td>\n",
       "    </tr>\n",
       "    <tr>\n",
       "      <th>Clicked on Ad</th>\n",
       "      <td>object</td>\n",
       "      <td>2</td>\n",
       "      <td>0.2</td>\n",
       "      <td>0</td>\n",
       "      <td>0.0</td>\n",
       "      <td>[No, Yes]</td>\n",
       "    </tr>\n",
       "    <tr>\n",
       "      <th>city</th>\n",
       "      <td>object</td>\n",
       "      <td>30</td>\n",
       "      <td>3.0</td>\n",
       "      <td>0</td>\n",
       "      <td>0.0</td>\n",
       "      <td>[Jakarta Timur, Denpasar, Surabaya, Batam, Med...</td>\n",
       "    </tr>\n",
       "    <tr>\n",
       "      <th>province</th>\n",
       "      <td>object</td>\n",
       "      <td>16</td>\n",
       "      <td>1.6</td>\n",
       "      <td>0</td>\n",
       "      <td>0.0</td>\n",
       "      <td>[Daerah Khusus Ibukota Jakarta, Bali, Jawa Tim...</td>\n",
       "    </tr>\n",
       "    <tr>\n",
       "      <th>category</th>\n",
       "      <td>object</td>\n",
       "      <td>10</td>\n",
       "      <td>1.0</td>\n",
       "      <td>0</td>\n",
       "      <td>0.0</td>\n",
       "      <td>[Furniture, Food, Electronic, House, Finance, ...</td>\n",
       "    </tr>\n",
       "  </tbody>\n",
       "</table>\n",
       "</div>"
      ],
      "text/plain": [
       "                         Tipe Data  Jumlah Value Unik  Jumlah Value Unik (%)  \\\n",
       "Variabel                                                                       \n",
       "Daily Time Spent on Site   float64                890                   89.0   \n",
       "Area Income                float64                987                   98.7   \n",
       "Daily Internet Usage       float64                955                   95.5   \n",
       "Male                        object                  2                    0.2   \n",
       "Age                          int64                 43                    4.3   \n",
       "Timestamp                   object                997                   99.7   \n",
       "Clicked on Ad               object                  2                    0.2   \n",
       "city                        object                 30                    3.0   \n",
       "province                    object                 16                    1.6   \n",
       "category                    object                 10                    1.0   \n",
       "\n",
       "                          Jumlah Null  Jumlah Null (%)  \\\n",
       "Variabel                                                 \n",
       "Daily Time Spent on Site           13              1.3   \n",
       "Area Income                        13              1.3   \n",
       "Daily Internet Usage               11              1.1   \n",
       "Male                                3              0.3   \n",
       "Age                                 0              0.0   \n",
       "Timestamp                           0              0.0   \n",
       "Clicked on Ad                       0              0.0   \n",
       "city                                0              0.0   \n",
       "province                            0              0.0   \n",
       "category                            0              0.0   \n",
       "\n",
       "                                                                      Value  \n",
       "Variabel                                                                     \n",
       "Daily Time Spent on Site  [68.95, 80.23, 69.47, 74.15, 68.37, 59.99, 88....  \n",
       "Area Income               [432837300.0, 479092950.0, 418501580.0, 383643...  \n",
       "Daily Internet Usage      [256.09, 193.77, 236.5, 245.89, 225.58, 226.74...  \n",
       "Male                                            [Perempuan, Laki-Laki, nan]  \n",
       "Age                       [35, 31, 26, 29, 23, 33, 48, 30, 20, 49, 37, 2...  \n",
       "Timestamp                 [03/27/2016 0:53, 04/04/2016 1:39, 03/13/2016 ...  \n",
       "Clicked on Ad                                                     [No, Yes]  \n",
       "city                      [Jakarta Timur, Denpasar, Surabaya, Batam, Med...  \n",
       "province                  [Daerah Khusus Ibukota Jakarta, Bali, Jawa Tim...  \n",
       "category                  [Furniture, Food, Electronic, House, Finance, ...  "
      ]
     },
     "execution_count": 5,
     "metadata": {},
     "output_type": "execute_result"
    }
   ],
   "source": [
    "def cleaning(df):\n",
    "    '''Tujuan dari fungsi ini adalah mengetahui kondisi tipe data, unique values, dan null'''\n",
    "    try:\n",
    "        import pandas as pd\n",
    "        variables = pd.DataFrame(columns=['Variabel', 'Tipe Data', 'Jumlah Value Unik', 'Jumlah Value Unik (%)',\n",
    "                                         'Jumlah Null', 'Jumlah Null (%)', 'Value'])\n",
    "        for i, var in enumerate(df.columns):\n",
    "            variables.loc[i] = [var, df[var].dtypes, df[var].nunique(), round(df[var].nunique()/df.shape[0]*100, 2),\n",
    "                                df[var].isnull().sum(), round(df[var].isnull().sum()/df.shape[0]*100, 2), df[var].unique()]\n",
    "        return (variables.set_index('Variabel'))\n",
    "    except:\n",
    "        print('Input tidak sesuai')\n",
    "        \n",
    "cleaning(df).sort_values(by='Jumlah Null (%)', ascending=False)"
   ]
  },
  {
   "cell_type": "markdown",
   "id": "b1ff2022",
   "metadata": {},
   "source": [
    "- `Clicked on Ad` akan menjadi target \t\n",
    "- Total Null tergolong kecil, hanya 40 dari 1000\n",
    "- Kolom non-numerk yang memiliki kardinalitas tinggi `Timestamp` dan `city`. Untuk kolom `Timestamp` akan dilakukan feature engineering menjadi format bulan saja, karena data tersebut hanya berisi di tahun 2016. Sementara itu, kolom `city` akan dihapus karena sudah diwakili oleh `province`"
   ]
  },
  {
   "cell_type": "code",
   "execution_count": 6,
   "id": "28d80f63",
   "metadata": {},
   "outputs": [],
   "source": [
    "## Feature Engineering\n",
    "df['Month']= pd.to_datetime(df['Timestamp']).dt.month \n",
    "df.drop(columns=['city', 'Timestamp'], inplace=True)\n",
    "df['province']= df['province'].replace({'Daerah Khusus Ibukota Jakarta': 'Jakarta'})\n",
    "df['Clicked on Ad']= df['Clicked on Ad'].replace({'Yes': 1, 'No':0})"
   ]
  },
  {
   "cell_type": "code",
   "execution_count": 7,
   "id": "35ad46b2",
   "metadata": {},
   "outputs": [
    {
     "data": {
      "text/plain": [
       "False"
      ]
     },
     "execution_count": 7,
     "metadata": {},
     "output_type": "execute_result"
    }
   ],
   "source": [
    "## Periksa data duplicate\n",
    "df.duplicated().any()"
   ]
  },
  {
   "cell_type": "code",
   "execution_count": 8,
   "id": "d32d00be",
   "metadata": {},
   "outputs": [
    {
     "data": {
      "text/plain": [
       "(1000, 9)"
      ]
     },
     "execution_count": 8,
     "metadata": {},
     "output_type": "execute_result"
    }
   ],
   "source": [
    "df.shape"
   ]
  },
  {
   "cell_type": "markdown",
   "id": "ef3362ba",
   "metadata": {},
   "source": [
    "## Statistik Deskriptif"
   ]
  },
  {
   "cell_type": "code",
   "execution_count": 9,
   "id": "662aadfe",
   "metadata": {},
   "outputs": [
    {
     "data": {
      "text/html": [
       "<div>\n",
       "<style scoped>\n",
       "    .dataframe tbody tr th:only-of-type {\n",
       "        vertical-align: middle;\n",
       "    }\n",
       "\n",
       "    .dataframe tbody tr th {\n",
       "        vertical-align: top;\n",
       "    }\n",
       "\n",
       "    .dataframe thead th {\n",
       "        text-align: right;\n",
       "    }\n",
       "</style>\n",
       "<table border=\"1\" class=\"dataframe\">\n",
       "  <thead>\n",
       "    <tr style=\"text-align: right;\">\n",
       "      <th></th>\n",
       "      <th>count</th>\n",
       "      <th>unique</th>\n",
       "      <th>top</th>\n",
       "      <th>freq</th>\n",
       "    </tr>\n",
       "  </thead>\n",
       "  <tbody>\n",
       "    <tr>\n",
       "      <th>Male</th>\n",
       "      <td>997</td>\n",
       "      <td>2</td>\n",
       "      <td>Perempuan</td>\n",
       "      <td>518</td>\n",
       "    </tr>\n",
       "    <tr>\n",
       "      <th>province</th>\n",
       "      <td>1000</td>\n",
       "      <td>16</td>\n",
       "      <td>Jakarta</td>\n",
       "      <td>253</td>\n",
       "    </tr>\n",
       "    <tr>\n",
       "      <th>category</th>\n",
       "      <td>1000</td>\n",
       "      <td>10</td>\n",
       "      <td>Otomotif</td>\n",
       "      <td>112</td>\n",
       "    </tr>\n",
       "  </tbody>\n",
       "</table>\n",
       "</div>"
      ],
      "text/plain": [
       "         count unique        top freq\n",
       "Male       997      2  Perempuan  518\n",
       "province  1000     16    Jakarta  253\n",
       "category  1000     10   Otomotif  112"
      ]
     },
     "execution_count": 9,
     "metadata": {},
     "output_type": "execute_result"
    }
   ],
   "source": [
    "# Kolom kategori\n",
    "df.describe(include='object').T"
   ]
  },
  {
   "cell_type": "code",
   "execution_count": 10,
   "id": "34bd0ad8",
   "metadata": {},
   "outputs": [
    {
     "data": {
      "text/html": [
       "<div>\n",
       "<style scoped>\n",
       "    .dataframe tbody tr th:only-of-type {\n",
       "        vertical-align: middle;\n",
       "    }\n",
       "\n",
       "    .dataframe tbody tr th {\n",
       "        vertical-align: top;\n",
       "    }\n",
       "\n",
       "    .dataframe thead th {\n",
       "        text-align: right;\n",
       "    }\n",
       "</style>\n",
       "<table border=\"1\" class=\"dataframe\">\n",
       "  <thead>\n",
       "    <tr style=\"text-align: right;\">\n",
       "      <th></th>\n",
       "      <th>count</th>\n",
       "      <th>mean</th>\n",
       "      <th>std</th>\n",
       "      <th>min</th>\n",
       "      <th>25%</th>\n",
       "      <th>50%</th>\n",
       "      <th>75%</th>\n",
       "      <th>max</th>\n",
       "    </tr>\n",
       "  </thead>\n",
       "  <tbody>\n",
       "    <tr>\n",
       "      <th>Daily Time Spent on Site</th>\n",
       "      <td>987.0</td>\n",
       "      <td>6.492952e+01</td>\n",
       "      <td>1.584470e+01</td>\n",
       "      <td>32.60</td>\n",
       "      <td>5.127000e+01</td>\n",
       "      <td>6.811000e+01</td>\n",
       "      <td>7.846000e+01</td>\n",
       "      <td>9.143000e+01</td>\n",
       "    </tr>\n",
       "    <tr>\n",
       "      <th>Age</th>\n",
       "      <td>1000.0</td>\n",
       "      <td>3.600900e+01</td>\n",
       "      <td>8.785562e+00</td>\n",
       "      <td>19.00</td>\n",
       "      <td>2.900000e+01</td>\n",
       "      <td>3.500000e+01</td>\n",
       "      <td>4.200000e+01</td>\n",
       "      <td>6.100000e+01</td>\n",
       "    </tr>\n",
       "    <tr>\n",
       "      <th>Area Income</th>\n",
       "      <td>987.0</td>\n",
       "      <td>3.848647e+08</td>\n",
       "      <td>9.407999e+07</td>\n",
       "      <td>97975500.00</td>\n",
       "      <td>3.286330e+08</td>\n",
       "      <td>3.990683e+08</td>\n",
       "      <td>4.583554e+08</td>\n",
       "      <td>5.563936e+08</td>\n",
       "    </tr>\n",
       "    <tr>\n",
       "      <th>Daily Internet Usage</th>\n",
       "      <td>989.0</td>\n",
       "      <td>1.798636e+02</td>\n",
       "      <td>4.387014e+01</td>\n",
       "      <td>104.78</td>\n",
       "      <td>1.387100e+02</td>\n",
       "      <td>1.826500e+02</td>\n",
       "      <td>2.187900e+02</td>\n",
       "      <td>2.670100e+02</td>\n",
       "    </tr>\n",
       "    <tr>\n",
       "      <th>Clicked on Ad</th>\n",
       "      <td>1000.0</td>\n",
       "      <td>5.000000e-01</td>\n",
       "      <td>5.002502e-01</td>\n",
       "      <td>0.00</td>\n",
       "      <td>0.000000e+00</td>\n",
       "      <td>5.000000e-01</td>\n",
       "      <td>1.000000e+00</td>\n",
       "      <td>1.000000e+00</td>\n",
       "    </tr>\n",
       "    <tr>\n",
       "      <th>Month</th>\n",
       "      <td>1000.0</td>\n",
       "      <td>3.817000e+00</td>\n",
       "      <td>1.926973e+00</td>\n",
       "      <td>1.00</td>\n",
       "      <td>2.000000e+00</td>\n",
       "      <td>4.000000e+00</td>\n",
       "      <td>5.000000e+00</td>\n",
       "      <td>7.000000e+00</td>\n",
       "    </tr>\n",
       "  </tbody>\n",
       "</table>\n",
       "</div>"
      ],
      "text/plain": [
       "                           count          mean           std          min  \\\n",
       "Daily Time Spent on Site   987.0  6.492952e+01  1.584470e+01        32.60   \n",
       "Age                       1000.0  3.600900e+01  8.785562e+00        19.00   \n",
       "Area Income                987.0  3.848647e+08  9.407999e+07  97975500.00   \n",
       "Daily Internet Usage       989.0  1.798636e+02  4.387014e+01       104.78   \n",
       "Clicked on Ad             1000.0  5.000000e-01  5.002502e-01         0.00   \n",
       "Month                     1000.0  3.817000e+00  1.926973e+00         1.00   \n",
       "\n",
       "                                   25%           50%           75%  \\\n",
       "Daily Time Spent on Site  5.127000e+01  6.811000e+01  7.846000e+01   \n",
       "Age                       2.900000e+01  3.500000e+01  4.200000e+01   \n",
       "Area Income               3.286330e+08  3.990683e+08  4.583554e+08   \n",
       "Daily Internet Usage      1.387100e+02  1.826500e+02  2.187900e+02   \n",
       "Clicked on Ad             0.000000e+00  5.000000e-01  1.000000e+00   \n",
       "Month                     2.000000e+00  4.000000e+00  5.000000e+00   \n",
       "\n",
       "                                   max  \n",
       "Daily Time Spent on Site  9.143000e+01  \n",
       "Age                       6.100000e+01  \n",
       "Area Income               5.563936e+08  \n",
       "Daily Internet Usage      2.670100e+02  \n",
       "Clicked on Ad             1.000000e+00  \n",
       "Month                     7.000000e+00  "
      ]
     },
     "execution_count": 10,
     "metadata": {},
     "output_type": "execute_result"
    }
   ],
   "source": [
    "# Kolom numerik\n",
    "df.describe(include=['float', 'int']).T"
   ]
  },
  {
   "cell_type": "markdown",
   "id": "c5c3bee8",
   "metadata": {},
   "source": [
    "## Univariate Analysis"
   ]
  },
  {
   "cell_type": "code",
   "execution_count": 11,
   "id": "05bc5f47",
   "metadata": {},
   "outputs": [],
   "source": [
    "cats= ['Male', 'Clicked on Ad', 'category', 'Month', 'province']\n",
    "nums= ['Daily Time Spent on Site', 'Age', 'Area Income', 'Daily Internet Usage']"
   ]
  },
  {
   "cell_type": "code",
   "execution_count": 12,
   "id": "afc3f5ca",
   "metadata": {},
   "outputs": [
    {
     "data": {
      "image/png": "[encoded data removed]",
      "text/plain": [
       "<Figure size 1080x936 with 5 Axes>"
      ]
     },
     "metadata": {
      "needs_background": "light"
     },
     "output_type": "display_data"
    }
   ],
   "source": [
    "plt.figure(figsize=(15,13))\n",
    "for a, b in enumerate(cats):\n",
    "        plt.subplot(3, 2, a+1)\n",
    "        ax= sns.countplot(x=df[b])\n",
    "        ax.bar_label(ax.containers[0])\n",
    "        if b in'province':\n",
    "            plt.xticks(rotation=45)\n",
    "plt.tight_layout();\n",
    "\n",
    "plt.savefig('Pict/Countplot.png', dpi=150)"
   ]
  },
  {
   "cell_type": "markdown",
   "id": "c3026bd3",
   "metadata": {},
   "source": [
    "Tidak terdapat irrational value ataupun imbalance class pada target"
   ]
  },
  {
   "cell_type": "code",
   "execution_count": 13,
   "id": "552abfd8",
   "metadata": {
    "scrolled": true
   },
   "outputs": [
    {
     "data": {
      "image/png": "[encoded data removed]",
      "text/plain": [
       "<Figure size 720x576 with 4 Axes>"
      ]
     },
     "metadata": {
      "needs_background": "light"
     },
     "output_type": "display_data"
    }
   ],
   "source": [
    "plt.figure(figsize=(10,8))\n",
    "for b in range(0, len(nums)):\n",
    "        plt.subplot(2,2,b+1)\n",
    "        sns.boxplot(x=df[nums[b]])\n",
    "plt.tight_layout();\n",
    "\n",
    "plt.savefig('Pict/Boxplot.png', dpi=150)"
   ]
  },
  {
   "cell_type": "code",
   "execution_count": 14,
   "id": "5d9639a0",
   "metadata": {},
   "outputs": [
    {
     "name": "stdout",
     "output_type": "stream",
     "text": [
      "Jumlah outliers di kolom Area Income sebanyak 8\n"
     ]
    }
   ],
   "source": [
    "for c in nums:\n",
    "    q1 = df[c].quantile(0.25)\n",
    "    q3 = df[c].quantile(0.75)\n",
    "    iqr = q3-q1\n",
    "    lowlimit = q1 - (iqr *1.5)\n",
    "    highlimit = q3 + (iqr*1.5)\n",
    "    \n",
    "    outliers= df[(df[c]< lowlimit) | (df[c]>highlimit)].shape[0]\n",
    "    if outliers> 0:\n",
    "        print(f'Jumlah outliers di kolom {c} sebanyak {outliers}')"
   ]
  },
  {
   "cell_type": "markdown",
   "id": "b93d5b20",
   "metadata": {},
   "source": [
    "Terdapat outliers di kolom `Area Income` sebanyak 8. Karena jumlah outliers terbilang kecil, maka saya memutuskan untuk menghapusnya pada saat preprocessing."
   ]
  },
  {
   "cell_type": "code",
   "execution_count": 15,
   "id": "be9f33fe",
   "metadata": {},
   "outputs": [
    {
     "data": {
      "image/png": "[encoded data removed]",
      "text/plain": [
       "<Figure size 432x288 with 4 Axes>"
      ]
     },
     "metadata": {
      "needs_background": "light"
     },
     "output_type": "display_data"
    }
   ],
   "source": [
    "for d in range(0, len(nums)):\n",
    "    plt.subplot(2, 2, d+1)\n",
    "    sns.kdeplot(x=df[nums[d]])\n",
    "plt.tight_layout()\n",
    "\n",
    "plt.savefig('Pict/Kdeplot.png', dpi=150)"
   ]
  },
  {
   "cell_type": "markdown",
   "id": "83f75495",
   "metadata": {},
   "source": [
    "Terdapat isu skew hanya saja sangat kecil, sehingga kita dapat mengabaikannya"
   ]
  },
  {
   "cell_type": "markdown",
   "id": "3c5e1d81",
   "metadata": {},
   "source": [
    "## Bivariate Analysis"
   ]
  },
  {
   "cell_type": "code",
   "execution_count": 16,
   "id": "ae817d34",
   "metadata": {
    "scrolled": true
   },
   "outputs": [
    {
     "data": {
      "image/png": "[encoded data removed]",
      "text/plain": [
       "<Figure size 936x720 with 4 Axes>"
      ]
     },
     "metadata": {
      "needs_background": "light"
     },
     "output_type": "display_data"
    }
   ],
   "source": [
    "plt.figure(figsize=(13,10))\n",
    "for e, f in enumerate(nums):\n",
    "    plt.subplot(2, 2, e+1)\n",
    "    ax= sns.histplot(x=f, data=df, hue='Clicked on Ad', bins=10)\n",
    "plt.tight_layout()\n",
    "\n",
    "plt.savefig('Pict/Histplot.png', dpi=150)"
   ]
  },
  {
   "cell_type": "markdown",
   "id": "1806600a",
   "metadata": {},
   "source": [
    "Sejauh yang terlihat, sebaran kolom numerik yang klik ads dan tidak hasilnya sama. Hal tersebut karena, sebaran nilai yang mengklik iklan dan tidak adalah sama persis, yaitu 50:50. Meski begitu, terlihat ada beberapa kecenderungan berikut:\n",
    "- Semakin tinggi daily time spent on site, maka kecenderungan customer tersebut tidak mengklik ads\n",
    "- Semakin tua seorang customer, maka kecenderungan untuk mengklik ads semakin tinggi"
   ]
  },
  {
   "cell_type": "code",
   "execution_count": 17,
   "id": "9a4af29a",
   "metadata": {},
   "outputs": [
    {
     "data": {
      "image/png": "[encoded data removed]",
      "text/plain": [
       "<Figure size 1080x864 with 4 Axes>"
      ]
     },
     "metadata": {
      "needs_background": "light"
     },
     "output_type": "display_data"
    }
   ],
   "source": [
    "kat= ['Male', 'category', 'Month', 'province']\n",
    "plt.figure(figsize=(15,12))\n",
    "for g, h in enumerate(kat):\n",
    "    plt.subplot(2, 2, g+1)\n",
    "    normal = df.groupby(h)['Clicked on Ad'].value_counts(normalize=True).multiply(100).rename('Percent').reset_index()\n",
    "    sns.barplot(data=normal, x=h, y='Percent', hue='Clicked on Ad')\n",
    "    \n",
    "    if h in ['category', 'province']:\n",
    "        plt.xticks(rotation=45)\n",
    "plt.tight_layout()\n",
    "\n",
    "plt.savefig('Pict/Barplot.png', dpi=150)    "
   ]
  },
  {
   "cell_type": "markdown",
   "id": "6d79e53a",
   "metadata": {},
   "source": [
    "Tidak ada value yang benar-benar mendominasi telak, sehingga belum dapat disimpulkan"
   ]
  },
  {
   "cell_type": "markdown",
   "id": "cc0c8f81",
   "metadata": {},
   "source": [
    "## Multivariate Analysis"
   ]
  },
  {
   "cell_type": "code",
   "execution_count": 18,
   "id": "5f84689c",
   "metadata": {},
   "outputs": [
    {
     "data": {
      "image/png": "[encoded data removed]",
      "text/plain": [
       "<Figure size 720x576 with 2 Axes>"
      ]
     },
     "metadata": {
      "needs_background": "light"
     },
     "output_type": "display_data"
    }
   ],
   "source": [
    "plt.figure(figsize=(10,8))                \n",
    "sns.heatmap(df.corr(), annot=True, fmt='.2f', cmap='RdBu_r')\n",
    "\n",
    "plt.savefig('Pict/Heatmap.png', dpi=150);"
   ]
  },
  {
   "cell_type": "markdown",
   "id": "ad26fff6",
   "metadata": {},
   "source": [
    "Data numerik terbebas dari gejala multikolinearitas dan semua kolom memiliki korelasi yang kuat, kecuali kolom `Month`."
   ]
  },
  {
   "cell_type": "markdown",
   "id": "1e21c8dc",
   "metadata": {},
   "source": [
    "# DATA PREPROCESSING"
   ]
  },
  {
   "cell_type": "markdown",
   "id": "913731d6",
   "metadata": {},
   "source": [
    "## Handle null dan outliers"
   ]
  },
  {
   "cell_type": "code",
   "execution_count": 19,
   "id": "59ca53d0",
   "metadata": {},
   "outputs": [],
   "source": [
    "## Handle null\n",
    "df.dropna(axis=0, inplace=True)\n",
    "\n",
    "## Handle outliers\n",
    "q1 = df['Area Income'].quantile(0.25)\n",
    "q3 = df['Area Income'].quantile(0.75)\n",
    "iqr = q3-q1\n",
    "lowlimit = q1 - (iqr *1.5)\n",
    "highlimit = q3 + (iqr*1.5)\n",
    "filtering= ((df['Area Income']>= lowlimit) & (df['Area Income']<=highlimit))\n",
    "df= df[filtering]"
   ]
  },
  {
   "cell_type": "code",
   "execution_count": 20,
   "id": "8246f6bc",
   "metadata": {},
   "outputs": [
    {
     "data": {
      "text/plain": [
       "(955, 9)"
      ]
     },
     "execution_count": 20,
     "metadata": {},
     "output_type": "execute_result"
    }
   ],
   "source": [
    "df.shape"
   ]
  },
  {
   "cell_type": "markdown",
   "id": "d8b4dfa8",
   "metadata": {},
   "source": [
    "## Feature Encoding"
   ]
  },
  {
   "cell_type": "code",
   "execution_count": 21,
   "id": "fa54a55f",
   "metadata": {},
   "outputs": [
    {
     "data": {
      "text/html": [
       "<div>\n",
       "<style scoped>\n",
       "    .dataframe tbody tr th:only-of-type {\n",
       "        vertical-align: middle;\n",
       "    }\n",
       "\n",
       "    .dataframe tbody tr th {\n",
       "        vertical-align: top;\n",
       "    }\n",
       "\n",
       "    .dataframe thead th {\n",
       "        text-align: right;\n",
       "    }\n",
       "</style>\n",
       "<table border=\"1\" class=\"dataframe\">\n",
       "  <thead>\n",
       "    <tr style=\"text-align: right;\">\n",
       "      <th></th>\n",
       "      <th>Male</th>\n",
       "      <th>province</th>\n",
       "      <th>category</th>\n",
       "    </tr>\n",
       "  </thead>\n",
       "  <tbody>\n",
       "    <tr>\n",
       "      <th>0</th>\n",
       "      <td>Perempuan</td>\n",
       "      <td>Jakarta</td>\n",
       "      <td>Furniture</td>\n",
       "    </tr>\n",
       "    <tr>\n",
       "      <th>1</th>\n",
       "      <td>Laki-Laki</td>\n",
       "      <td>Bali</td>\n",
       "      <td>Food</td>\n",
       "    </tr>\n",
       "    <tr>\n",
       "      <th>2</th>\n",
       "      <td>Perempuan</td>\n",
       "      <td>Jawa Timur</td>\n",
       "      <td>Electronic</td>\n",
       "    </tr>\n",
       "    <tr>\n",
       "      <th>3</th>\n",
       "      <td>Laki-Laki</td>\n",
       "      <td>Kepulauan Riau</td>\n",
       "      <td>House</td>\n",
       "    </tr>\n",
       "    <tr>\n",
       "      <th>4</th>\n",
       "      <td>Perempuan</td>\n",
       "      <td>Sumatra Utara</td>\n",
       "      <td>Finance</td>\n",
       "    </tr>\n",
       "  </tbody>\n",
       "</table>\n",
       "</div>"
      ],
      "text/plain": [
       "        Male        province    category\n",
       "0  Perempuan         Jakarta   Furniture\n",
       "1  Laki-Laki            Bali        Food\n",
       "2  Perempuan      Jawa Timur  Electronic\n",
       "3  Laki-Laki  Kepulauan Riau       House\n",
       "4  Perempuan   Sumatra Utara     Finance"
      ]
     },
     "execution_count": 21,
     "metadata": {},
     "output_type": "execute_result"
    }
   ],
   "source": [
    "df.select_dtypes('object').head(5)"
   ]
  },
  {
   "cell_type": "code",
   "execution_count": 22,
   "id": "f2cc5e78",
   "metadata": {},
   "outputs": [],
   "source": [
    "## Label Encoding\n",
    "df['Male']= df['Male'].replace({'Perempuan': 0, 'Laki-Laki':1})"
   ]
  },
  {
   "cell_type": "code",
   "execution_count": 23,
   "id": "f10119c0",
   "metadata": {},
   "outputs": [],
   "source": [
    "## One Hot Encoding\n",
    "col= ['province', 'category']\n",
    "for i in col:\n",
    "    ohe= pd.get_dummies(df[i], prefix=i)\n",
    "    df= pd.concat([df, ohe], axis=1)\n",
    "    df.drop(columns=i, inplace=True)"
   ]
  },
  {
   "cell_type": "code",
   "execution_count": 24,
   "id": "eb6c968c",
   "metadata": {},
   "outputs": [
    {
     "data": {
      "text/html": [
       "<div>\n",
       "<style scoped>\n",
       "    .dataframe tbody tr th:only-of-type {\n",
       "        vertical-align: middle;\n",
       "    }\n",
       "\n",
       "    .dataframe tbody tr th {\n",
       "        vertical-align: top;\n",
       "    }\n",
       "\n",
       "    .dataframe thead th {\n",
       "        text-align: right;\n",
       "    }\n",
       "</style>\n",
       "<table border=\"1\" class=\"dataframe\">\n",
       "  <thead>\n",
       "    <tr style=\"text-align: right;\">\n",
       "      <th></th>\n",
       "      <th>Daily Time Spent on Site</th>\n",
       "      <th>Age</th>\n",
       "      <th>Area Income</th>\n",
       "      <th>Daily Internet Usage</th>\n",
       "      <th>Male</th>\n",
       "      <th>Clicked on Ad</th>\n",
       "      <th>Month</th>\n",
       "      <th>province_Bali</th>\n",
       "      <th>province_Banten</th>\n",
       "      <th>province_Jakarta</th>\n",
       "      <th>province_Jawa Barat</th>\n",
       "      <th>province_Jawa Tengah</th>\n",
       "      <th>province_Jawa Timur</th>\n",
       "      <th>province_Kalimantan Barat</th>\n",
       "      <th>province_Kalimantan Selatan</th>\n",
       "      <th>province_Kalimantan Timur</th>\n",
       "      <th>province_Kepulauan Riau</th>\n",
       "      <th>province_Lampung</th>\n",
       "      <th>province_Riau</th>\n",
       "      <th>province_Sulawesi Selatan</th>\n",
       "      <th>province_Sumatra Barat</th>\n",
       "      <th>province_Sumatra Selatan</th>\n",
       "      <th>province_Sumatra Utara</th>\n",
       "      <th>category_Bank</th>\n",
       "      <th>category_Electronic</th>\n",
       "      <th>category_Fashion</th>\n",
       "      <th>category_Finance</th>\n",
       "      <th>category_Food</th>\n",
       "      <th>category_Furniture</th>\n",
       "      <th>category_Health</th>\n",
       "      <th>category_House</th>\n",
       "      <th>category_Otomotif</th>\n",
       "      <th>category_Travel</th>\n",
       "    </tr>\n",
       "  </thead>\n",
       "  <tbody>\n",
       "    <tr>\n",
       "      <th>0</th>\n",
       "      <td>68.95</td>\n",
       "      <td>35</td>\n",
       "      <td>432837300.0</td>\n",
       "      <td>256.09</td>\n",
       "      <td>0</td>\n",
       "      <td>0</td>\n",
       "      <td>3</td>\n",
       "      <td>0</td>\n",
       "      <td>0</td>\n",
       "      <td>1</td>\n",
       "      <td>0</td>\n",
       "      <td>0</td>\n",
       "      <td>0</td>\n",
       "      <td>0</td>\n",
       "      <td>0</td>\n",
       "      <td>0</td>\n",
       "      <td>0</td>\n",
       "      <td>0</td>\n",
       "      <td>0</td>\n",
       "      <td>0</td>\n",
       "      <td>0</td>\n",
       "      <td>0</td>\n",
       "      <td>0</td>\n",
       "      <td>0</td>\n",
       "      <td>0</td>\n",
       "      <td>0</td>\n",
       "      <td>0</td>\n",
       "      <td>0</td>\n",
       "      <td>1</td>\n",
       "      <td>0</td>\n",
       "      <td>0</td>\n",
       "      <td>0</td>\n",
       "      <td>0</td>\n",
       "    </tr>\n",
       "    <tr>\n",
       "      <th>1</th>\n",
       "      <td>80.23</td>\n",
       "      <td>31</td>\n",
       "      <td>479092950.0</td>\n",
       "      <td>193.77</td>\n",
       "      <td>1</td>\n",
       "      <td>0</td>\n",
       "      <td>4</td>\n",
       "      <td>1</td>\n",
       "      <td>0</td>\n",
       "      <td>0</td>\n",
       "      <td>0</td>\n",
       "      <td>0</td>\n",
       "      <td>0</td>\n",
       "      <td>0</td>\n",
       "      <td>0</td>\n",
       "      <td>0</td>\n",
       "      <td>0</td>\n",
       "      <td>0</td>\n",
       "      <td>0</td>\n",
       "      <td>0</td>\n",
       "      <td>0</td>\n",
       "      <td>0</td>\n",
       "      <td>0</td>\n",
       "      <td>0</td>\n",
       "      <td>0</td>\n",
       "      <td>0</td>\n",
       "      <td>0</td>\n",
       "      <td>1</td>\n",
       "      <td>0</td>\n",
       "      <td>0</td>\n",
       "      <td>0</td>\n",
       "      <td>0</td>\n",
       "      <td>0</td>\n",
       "    </tr>\n",
       "    <tr>\n",
       "      <th>2</th>\n",
       "      <td>69.47</td>\n",
       "      <td>26</td>\n",
       "      <td>418501580.0</td>\n",
       "      <td>236.50</td>\n",
       "      <td>0</td>\n",
       "      <td>0</td>\n",
       "      <td>3</td>\n",
       "      <td>0</td>\n",
       "      <td>0</td>\n",
       "      <td>0</td>\n",
       "      <td>0</td>\n",
       "      <td>0</td>\n",
       "      <td>1</td>\n",
       "      <td>0</td>\n",
       "      <td>0</td>\n",
       "      <td>0</td>\n",
       "      <td>0</td>\n",
       "      <td>0</td>\n",
       "      <td>0</td>\n",
       "      <td>0</td>\n",
       "      <td>0</td>\n",
       "      <td>0</td>\n",
       "      <td>0</td>\n",
       "      <td>0</td>\n",
       "      <td>1</td>\n",
       "      <td>0</td>\n",
       "      <td>0</td>\n",
       "      <td>0</td>\n",
       "      <td>0</td>\n",
       "      <td>0</td>\n",
       "      <td>0</td>\n",
       "      <td>0</td>\n",
       "      <td>0</td>\n",
       "    </tr>\n",
       "    <tr>\n",
       "      <th>3</th>\n",
       "      <td>74.15</td>\n",
       "      <td>29</td>\n",
       "      <td>383643260.0</td>\n",
       "      <td>245.89</td>\n",
       "      <td>1</td>\n",
       "      <td>0</td>\n",
       "      <td>1</td>\n",
       "      <td>0</td>\n",
       "      <td>0</td>\n",
       "      <td>0</td>\n",
       "      <td>0</td>\n",
       "      <td>0</td>\n",
       "      <td>0</td>\n",
       "      <td>0</td>\n",
       "      <td>0</td>\n",
       "      <td>0</td>\n",
       "      <td>1</td>\n",
       "      <td>0</td>\n",
       "      <td>0</td>\n",
       "      <td>0</td>\n",
       "      <td>0</td>\n",
       "      <td>0</td>\n",
       "      <td>0</td>\n",
       "      <td>0</td>\n",
       "      <td>0</td>\n",
       "      <td>0</td>\n",
       "      <td>0</td>\n",
       "      <td>0</td>\n",
       "      <td>0</td>\n",
       "      <td>0</td>\n",
       "      <td>1</td>\n",
       "      <td>0</td>\n",
       "      <td>0</td>\n",
       "    </tr>\n",
       "    <tr>\n",
       "      <th>4</th>\n",
       "      <td>68.37</td>\n",
       "      <td>35</td>\n",
       "      <td>517229930.0</td>\n",
       "      <td>225.58</td>\n",
       "      <td>0</td>\n",
       "      <td>0</td>\n",
       "      <td>6</td>\n",
       "      <td>0</td>\n",
       "      <td>0</td>\n",
       "      <td>0</td>\n",
       "      <td>0</td>\n",
       "      <td>0</td>\n",
       "      <td>0</td>\n",
       "      <td>0</td>\n",
       "      <td>0</td>\n",
       "      <td>0</td>\n",
       "      <td>0</td>\n",
       "      <td>0</td>\n",
       "      <td>0</td>\n",
       "      <td>0</td>\n",
       "      <td>0</td>\n",
       "      <td>0</td>\n",
       "      <td>1</td>\n",
       "      <td>0</td>\n",
       "      <td>0</td>\n",
       "      <td>0</td>\n",
       "      <td>1</td>\n",
       "      <td>0</td>\n",
       "      <td>0</td>\n",
       "      <td>0</td>\n",
       "      <td>0</td>\n",
       "      <td>0</td>\n",
       "      <td>0</td>\n",
       "    </tr>\n",
       "  </tbody>\n",
       "</table>\n",
       "</div>"
      ],
      "text/plain": [
       "   Daily Time Spent on Site  Age  Area Income  Daily Internet Usage  Male  \\\n",
       "0                     68.95   35  432837300.0                256.09     0   \n",
       "1                     80.23   31  479092950.0                193.77     1   \n",
       "2                     69.47   26  418501580.0                236.50     0   \n",
       "3                     74.15   29  383643260.0                245.89     1   \n",
       "4                     68.37   35  517229930.0                225.58     0   \n",
       "\n",
       "   Clicked on Ad  Month  province_Bali  province_Banten  province_Jakarta  \\\n",
       "0              0      3              0                0                 1   \n",
       "1              0      4              1                0                 0   \n",
       "2              0      3              0                0                 0   \n",
       "3              0      1              0                0                 0   \n",
       "4              0      6              0                0                 0   \n",
       "\n",
       "   province_Jawa Barat  province_Jawa Tengah  province_Jawa Timur  \\\n",
       "0                    0                     0                    0   \n",
       "1                    0                     0                    0   \n",
       "2                    0                     0                    1   \n",
       "3                    0                     0                    0   \n",
       "4                    0                     0                    0   \n",
       "\n",
       "   province_Kalimantan Barat  province_Kalimantan Selatan  \\\n",
       "0                          0                            0   \n",
       "1                          0                            0   \n",
       "2                          0                            0   \n",
       "3                          0                            0   \n",
       "4                          0                            0   \n",
       "\n",
       "   province_Kalimantan Timur  province_Kepulauan Riau  province_Lampung  \\\n",
       "0                          0                        0                 0   \n",
       "1                          0                        0                 0   \n",
       "2                          0                        0                 0   \n",
       "3                          0                        1                 0   \n",
       "4                          0                        0                 0   \n",
       "\n",
       "   province_Riau  province_Sulawesi Selatan  province_Sumatra Barat  \\\n",
       "0              0                          0                       0   \n",
       "1              0                          0                       0   \n",
       "2              0                          0                       0   \n",
       "3              0                          0                       0   \n",
       "4              0                          0                       0   \n",
       "\n",
       "   province_Sumatra Selatan  province_Sumatra Utara  category_Bank  \\\n",
       "0                         0                       0              0   \n",
       "1                         0                       0              0   \n",
       "2                         0                       0              0   \n",
       "3                         0                       0              0   \n",
       "4                         0                       1              0   \n",
       "\n",
       "   category_Electronic  category_Fashion  category_Finance  category_Food  \\\n",
       "0                    0                 0                 0              0   \n",
       "1                    0                 0                 0              1   \n",
       "2                    1                 0                 0              0   \n",
       "3                    0                 0                 0              0   \n",
       "4                    0                 0                 1              0   \n",
       "\n",
       "   category_Furniture  category_Health  category_House  category_Otomotif  \\\n",
       "0                   1                0               0                  0   \n",
       "1                   0                0               0                  0   \n",
       "2                   0                0               0                  0   \n",
       "3                   0                0               1                  0   \n",
       "4                   0                0               0                  0   \n",
       "\n",
       "   category_Travel  \n",
       "0                0  \n",
       "1                0  \n",
       "2                0  \n",
       "3                0  \n",
       "4                0  "
      ]
     },
     "execution_count": 24,
     "metadata": {},
     "output_type": "execute_result"
    }
   ],
   "source": [
    "df.head()"
   ]
  },
  {
   "cell_type": "markdown",
   "id": "f8c0b9a2",
   "metadata": {},
   "source": [
    "## Splitting Dataset"
   ]
  },
  {
   "cell_type": "code",
   "execution_count": 25,
   "id": "4d343405",
   "metadata": {},
   "outputs": [
    {
     "data": {
      "text/plain": [
       "((764, 32), (191, 32), (764,), (191,))"
      ]
     },
     "execution_count": 25,
     "metadata": {},
     "output_type": "execute_result"
    }
   ],
   "source": [
    "from sklearn.model_selection import train_test_split\n",
    "\n",
    "X= df.drop(columns='Clicked on Ad')\n",
    "y= df['Clicked on Ad']\n",
    "\n",
    "X_train, X_test, y_train, y_test= train_test_split(X, y, test_size=0.2, stratify=y, random_state=42)\n",
    "X_train.shape, X_test.shape, y_train.shape, y_test.shape"
   ]
  },
  {
   "cell_type": "code",
   "execution_count": 26,
   "id": "8eefc37c",
   "metadata": {},
   "outputs": [],
   "source": [
    "train= pd.concat([X_train, y_train], axis=1)\n",
    "test= pd.concat([X_test, y_test], axis=1)"
   ]
  },
  {
   "cell_type": "code",
   "execution_count": 27,
   "id": "c187f7a7",
   "metadata": {},
   "outputs": [
    {
     "data": {
      "text/plain": [
       "((764, 33), (191, 33))"
      ]
     },
     "execution_count": 27,
     "metadata": {},
     "output_type": "execute_result"
    }
   ],
   "source": [
    "train.shape, test.shape"
   ]
  },
  {
   "cell_type": "markdown",
   "id": "94b9d20e",
   "metadata": {},
   "source": [
    "### Feature Scalling"
   ]
  },
  {
   "cell_type": "code",
   "execution_count": 28,
   "id": "2024b472",
   "metadata": {},
   "outputs": [],
   "source": [
    "from sklearn.preprocessing import StandardScaler\n",
    "\n",
    "for i in train.select_dtypes('number').columns:\n",
    "        scaler = StandardScaler().fit(train[[i]])\n",
    "        train[i] = scaler.transform(train[[i]])\n",
    "        test[i] = scaler.transform(test[[i]])"
   ]
  },
  {
   "cell_type": "markdown",
   "id": "8ab34a35",
   "metadata": {},
   "source": [
    "Kita akan membuat dua skenario untuk mendapat hasil terbaik. Skenario pertama, kita akan melakukan modeling tanpa melakukan scaling, dan skenario kedua melakukan modeling dengan feature scaling standard scaler."
   ]
  },
  {
   "cell_type": "code",
   "execution_count": 29,
   "id": "03dabfb9",
   "metadata": {},
   "outputs": [
    {
     "data": {
      "text/html": [
       "<div>\n",
       "<style scoped>\n",
       "    .dataframe tbody tr th:only-of-type {\n",
       "        vertical-align: middle;\n",
       "    }\n",
       "\n",
       "    .dataframe tbody tr th {\n",
       "        vertical-align: top;\n",
       "    }\n",
       "\n",
       "    .dataframe thead th {\n",
       "        text-align: right;\n",
       "    }\n",
       "</style>\n",
       "<table border=\"1\" class=\"dataframe\">\n",
       "  <thead>\n",
       "    <tr style=\"text-align: right;\">\n",
       "      <th></th>\n",
       "      <th>Daily Time Spent on Site</th>\n",
       "      <th>Age</th>\n",
       "      <th>Area Income</th>\n",
       "      <th>Daily Internet Usage</th>\n",
       "      <th>Male</th>\n",
       "      <th>Month</th>\n",
       "      <th>province_Bali</th>\n",
       "      <th>province_Banten</th>\n",
       "      <th>province_Jakarta</th>\n",
       "      <th>province_Jawa Barat</th>\n",
       "      <th>province_Jawa Tengah</th>\n",
       "      <th>province_Jawa Timur</th>\n",
       "      <th>province_Kalimantan Barat</th>\n",
       "      <th>province_Kalimantan Selatan</th>\n",
       "      <th>province_Kalimantan Timur</th>\n",
       "      <th>province_Kepulauan Riau</th>\n",
       "      <th>province_Lampung</th>\n",
       "      <th>province_Riau</th>\n",
       "      <th>province_Sulawesi Selatan</th>\n",
       "      <th>province_Sumatra Barat</th>\n",
       "      <th>province_Sumatra Selatan</th>\n",
       "      <th>province_Sumatra Utara</th>\n",
       "      <th>category_Bank</th>\n",
       "      <th>category_Electronic</th>\n",
       "      <th>category_Fashion</th>\n",
       "      <th>category_Finance</th>\n",
       "      <th>category_Food</th>\n",
       "      <th>category_Furniture</th>\n",
       "      <th>category_Health</th>\n",
       "      <th>category_House</th>\n",
       "      <th>category_Otomotif</th>\n",
       "      <th>category_Travel</th>\n",
       "    </tr>\n",
       "  </thead>\n",
       "  <tbody>\n",
       "    <tr>\n",
       "      <th>96</th>\n",
       "      <td>45.72</td>\n",
       "      <td>36</td>\n",
       "      <td>157311560.0</td>\n",
       "      <td>154.02</td>\n",
       "      <td>1</td>\n",
       "      <td>4</td>\n",
       "      <td>0</td>\n",
       "      <td>1</td>\n",
       "      <td>0</td>\n",
       "      <td>0</td>\n",
       "      <td>0</td>\n",
       "      <td>0</td>\n",
       "      <td>0</td>\n",
       "      <td>0</td>\n",
       "      <td>0</td>\n",
       "      <td>0</td>\n",
       "      <td>0</td>\n",
       "      <td>0</td>\n",
       "      <td>0</td>\n",
       "      <td>0</td>\n",
       "      <td>0</td>\n",
       "      <td>0</td>\n",
       "      <td>0</td>\n",
       "      <td>0</td>\n",
       "      <td>0</td>\n",
       "      <td>0</td>\n",
       "      <td>0</td>\n",
       "      <td>0</td>\n",
       "      <td>0</td>\n",
       "      <td>0</td>\n",
       "      <td>0</td>\n",
       "      <td>1</td>\n",
       "    </tr>\n",
       "    <tr>\n",
       "      <th>754</th>\n",
       "      <td>76.87</td>\n",
       "      <td>36</td>\n",
       "      <td>510641320.0</td>\n",
       "      <td>212.59</td>\n",
       "      <td>0</td>\n",
       "      <td>7</td>\n",
       "      <td>0</td>\n",
       "      <td>0</td>\n",
       "      <td>0</td>\n",
       "      <td>0</td>\n",
       "      <td>0</td>\n",
       "      <td>1</td>\n",
       "      <td>0</td>\n",
       "      <td>0</td>\n",
       "      <td>0</td>\n",
       "      <td>0</td>\n",
       "      <td>0</td>\n",
       "      <td>0</td>\n",
       "      <td>0</td>\n",
       "      <td>0</td>\n",
       "      <td>0</td>\n",
       "      <td>0</td>\n",
       "      <td>0</td>\n",
       "      <td>1</td>\n",
       "      <td>0</td>\n",
       "      <td>0</td>\n",
       "      <td>0</td>\n",
       "      <td>0</td>\n",
       "      <td>0</td>\n",
       "      <td>0</td>\n",
       "      <td>0</td>\n",
       "      <td>0</td>\n",
       "    </tr>\n",
       "    <tr>\n",
       "      <th>102</th>\n",
       "      <td>89.91</td>\n",
       "      <td>40</td>\n",
       "      <td>417154920.0</td>\n",
       "      <td>194.23</td>\n",
       "      <td>0</td>\n",
       "      <td>7</td>\n",
       "      <td>0</td>\n",
       "      <td>1</td>\n",
       "      <td>0</td>\n",
       "      <td>0</td>\n",
       "      <td>0</td>\n",
       "      <td>0</td>\n",
       "      <td>0</td>\n",
       "      <td>0</td>\n",
       "      <td>0</td>\n",
       "      <td>0</td>\n",
       "      <td>0</td>\n",
       "      <td>0</td>\n",
       "      <td>0</td>\n",
       "      <td>0</td>\n",
       "      <td>0</td>\n",
       "      <td>0</td>\n",
       "      <td>0</td>\n",
       "      <td>0</td>\n",
       "      <td>0</td>\n",
       "      <td>0</td>\n",
       "      <td>0</td>\n",
       "      <td>0</td>\n",
       "      <td>0</td>\n",
       "      <td>0</td>\n",
       "      <td>0</td>\n",
       "      <td>1</td>\n",
       "    </tr>\n",
       "    <tr>\n",
       "      <th>238</th>\n",
       "      <td>74.32</td>\n",
       "      <td>33</td>\n",
       "      <td>434420770.0</td>\n",
       "      <td>128.17</td>\n",
       "      <td>0</td>\n",
       "      <td>5</td>\n",
       "      <td>0</td>\n",
       "      <td>0</td>\n",
       "      <td>1</td>\n",
       "      <td>0</td>\n",
       "      <td>0</td>\n",
       "      <td>0</td>\n",
       "      <td>0</td>\n",
       "      <td>0</td>\n",
       "      <td>0</td>\n",
       "      <td>0</td>\n",
       "      <td>0</td>\n",
       "      <td>0</td>\n",
       "      <td>0</td>\n",
       "      <td>0</td>\n",
       "      <td>0</td>\n",
       "      <td>0</td>\n",
       "      <td>0</td>\n",
       "      <td>0</td>\n",
       "      <td>0</td>\n",
       "      <td>1</td>\n",
       "      <td>0</td>\n",
       "      <td>0</td>\n",
       "      <td>0</td>\n",
       "      <td>0</td>\n",
       "      <td>0</td>\n",
       "      <td>0</td>\n",
       "    </tr>\n",
       "    <tr>\n",
       "      <th>407</th>\n",
       "      <td>48.73</td>\n",
       "      <td>27</td>\n",
       "      <td>239338610.0</td>\n",
       "      <td>142.04</td>\n",
       "      <td>0</td>\n",
       "      <td>7</td>\n",
       "      <td>0</td>\n",
       "      <td>0</td>\n",
       "      <td>1</td>\n",
       "      <td>0</td>\n",
       "      <td>0</td>\n",
       "      <td>0</td>\n",
       "      <td>0</td>\n",
       "      <td>0</td>\n",
       "      <td>0</td>\n",
       "      <td>0</td>\n",
       "      <td>0</td>\n",
       "      <td>0</td>\n",
       "      <td>0</td>\n",
       "      <td>0</td>\n",
       "      <td>0</td>\n",
       "      <td>0</td>\n",
       "      <td>0</td>\n",
       "      <td>0</td>\n",
       "      <td>0</td>\n",
       "      <td>0</td>\n",
       "      <td>0</td>\n",
       "      <td>1</td>\n",
       "      <td>0</td>\n",
       "      <td>0</td>\n",
       "      <td>0</td>\n",
       "      <td>0</td>\n",
       "    </tr>\n",
       "  </tbody>\n",
       "</table>\n",
       "</div>"
      ],
      "text/plain": [
       "     Daily Time Spent on Site  Age  Area Income  Daily Internet Usage  Male  \\\n",
       "96                      45.72   36  157311560.0                154.02     1   \n",
       "754                     76.87   36  510641320.0                212.59     0   \n",
       "102                     89.91   40  417154920.0                194.23     0   \n",
       "238                     74.32   33  434420770.0                128.17     0   \n",
       "407                     48.73   27  239338610.0                142.04     0   \n",
       "\n",
       "     Month  province_Bali  province_Banten  province_Jakarta  \\\n",
       "96       4              0                1                 0   \n",
       "754      7              0                0                 0   \n",
       "102      7              0                1                 0   \n",
       "238      5              0                0                 1   \n",
       "407      7              0                0                 1   \n",
       "\n",
       "     province_Jawa Barat  province_Jawa Tengah  province_Jawa Timur  \\\n",
       "96                     0                     0                    0   \n",
       "754                    0                     0                    1   \n",
       "102                    0                     0                    0   \n",
       "238                    0                     0                    0   \n",
       "407                    0                     0                    0   \n",
       "\n",
       "     province_Kalimantan Barat  province_Kalimantan Selatan  \\\n",
       "96                           0                            0   \n",
       "754                          0                            0   \n",
       "102                          0                            0   \n",
       "238                          0                            0   \n",
       "407                          0                            0   \n",
       "\n",
       "     province_Kalimantan Timur  province_Kepulauan Riau  province_Lampung  \\\n",
       "96                           0                        0                 0   \n",
       "754                          0                        0                 0   \n",
       "102                          0                        0                 0   \n",
       "238                          0                        0                 0   \n",
       "407                          0                        0                 0   \n",
       "\n",
       "     province_Riau  province_Sulawesi Selatan  province_Sumatra Barat  \\\n",
       "96               0                          0                       0   \n",
       "754              0                          0                       0   \n",
       "102              0                          0                       0   \n",
       "238              0                          0                       0   \n",
       "407              0                          0                       0   \n",
       "\n",
       "     province_Sumatra Selatan  province_Sumatra Utara  category_Bank  \\\n",
       "96                          0                       0              0   \n",
       "754                         0                       0              0   \n",
       "102                         0                       0              0   \n",
       "238                         0                       0              0   \n",
       "407                         0                       0              0   \n",
       "\n",
       "     category_Electronic  category_Fashion  category_Finance  category_Food  \\\n",
       "96                     0                 0                 0              0   \n",
       "754                    1                 0                 0              0   \n",
       "102                    0                 0                 0              0   \n",
       "238                    0                 0                 1              0   \n",
       "407                    0                 0                 0              0   \n",
       "\n",
       "     category_Furniture  category_Health  category_House  category_Otomotif  \\\n",
       "96                    0                0               0                  0   \n",
       "754                   0                0               0                  0   \n",
       "102                   0                0               0                  0   \n",
       "238                   0                0               0                  0   \n",
       "407                   1                0               0                  0   \n",
       "\n",
       "     category_Travel  \n",
       "96                 1  \n",
       "754                0  \n",
       "102                1  \n",
       "238                0  \n",
       "407                0  "
      ]
     },
     "execution_count": 29,
     "metadata": {},
     "output_type": "execute_result"
    }
   ],
   "source": [
    "## Skenario 1 (Tanpa scalling)\n",
    "X_train.head()"
   ]
  },
  {
   "cell_type": "code",
   "execution_count": 30,
   "id": "a5cbaffe",
   "metadata": {},
   "outputs": [
    {
     "data": {
      "text/html": [
       "<div>\n",
       "<style scoped>\n",
       "    .dataframe tbody tr th:only-of-type {\n",
       "        vertical-align: middle;\n",
       "    }\n",
       "\n",
       "    .dataframe tbody tr th {\n",
       "        vertical-align: top;\n",
       "    }\n",
       "\n",
       "    .dataframe thead th {\n",
       "        text-align: right;\n",
       "    }\n",
       "</style>\n",
       "<table border=\"1\" class=\"dataframe\">\n",
       "  <thead>\n",
       "    <tr style=\"text-align: right;\">\n",
       "      <th></th>\n",
       "      <th>Daily Time Spent on Site</th>\n",
       "      <th>Age</th>\n",
       "      <th>Area Income</th>\n",
       "      <th>Daily Internet Usage</th>\n",
       "      <th>Male</th>\n",
       "      <th>Month</th>\n",
       "      <th>province_Bali</th>\n",
       "      <th>province_Banten</th>\n",
       "      <th>province_Jakarta</th>\n",
       "      <th>province_Jawa Barat</th>\n",
       "      <th>province_Jawa Tengah</th>\n",
       "      <th>province_Jawa Timur</th>\n",
       "      <th>province_Kalimantan Barat</th>\n",
       "      <th>province_Kalimantan Selatan</th>\n",
       "      <th>province_Kalimantan Timur</th>\n",
       "      <th>province_Kepulauan Riau</th>\n",
       "      <th>province_Lampung</th>\n",
       "      <th>province_Riau</th>\n",
       "      <th>province_Sulawesi Selatan</th>\n",
       "      <th>province_Sumatra Barat</th>\n",
       "      <th>province_Sumatra Selatan</th>\n",
       "      <th>province_Sumatra Utara</th>\n",
       "      <th>category_Bank</th>\n",
       "      <th>category_Electronic</th>\n",
       "      <th>category_Fashion</th>\n",
       "      <th>category_Finance</th>\n",
       "      <th>category_Food</th>\n",
       "      <th>category_Furniture</th>\n",
       "      <th>category_Health</th>\n",
       "      <th>category_House</th>\n",
       "      <th>category_Otomotif</th>\n",
       "      <th>category_Travel</th>\n",
       "    </tr>\n",
       "  </thead>\n",
       "  <tbody>\n",
       "    <tr>\n",
       "      <th>96</th>\n",
       "      <td>-1.207338</td>\n",
       "      <td>0.005337</td>\n",
       "      <td>-2.551231</td>\n",
       "      <td>-0.590625</td>\n",
       "      <td>1.081875</td>\n",
       "      <td>0.080083</td>\n",
       "      <td>-0.141516</td>\n",
       "      <td>3.662662</td>\n",
       "      <td>-0.561226</td>\n",
       "      <td>-0.524842</td>\n",
       "      <td>-0.247207</td>\n",
       "      <td>-0.332363</td>\n",
       "      <td>-0.109181</td>\n",
       "      <td>-0.159698</td>\n",
       "      <td>-0.198635</td>\n",
       "      <td>-0.191403</td>\n",
       "      <td>-0.159698</td>\n",
       "      <td>-0.141516</td>\n",
       "      <td>-0.18009</td>\n",
       "      <td>-0.141516</td>\n",
       "      <td>-0.21247</td>\n",
       "      <td>-0.228783</td>\n",
       "      <td>-0.325029</td>\n",
       "      <td>-0.334786</td>\n",
       "      <td>-0.325029</td>\n",
       "      <td>-0.307499</td>\n",
       "      <td>-0.332363</td>\n",
       "      <td>-0.332363</td>\n",
       "      <td>-0.344375</td>\n",
       "      <td>-0.344375</td>\n",
       "      <td>-0.35848</td>\n",
       "      <td>3.053576</td>\n",
       "    </tr>\n",
       "    <tr>\n",
       "      <th>754</th>\n",
       "      <td>0.748194</td>\n",
       "      <td>0.005337</td>\n",
       "      <td>1.346263</td>\n",
       "      <td>0.753271</td>\n",
       "      <td>-0.924321</td>\n",
       "      <td>1.635594</td>\n",
       "      <td>-0.141516</td>\n",
       "      <td>-0.273025</td>\n",
       "      <td>-0.561226</td>\n",
       "      <td>-0.524842</td>\n",
       "      <td>-0.247207</td>\n",
       "      <td>3.008759</td>\n",
       "      <td>-0.109181</td>\n",
       "      <td>-0.159698</td>\n",
       "      <td>-0.198635</td>\n",
       "      <td>-0.191403</td>\n",
       "      <td>-0.159698</td>\n",
       "      <td>-0.141516</td>\n",
       "      <td>-0.18009</td>\n",
       "      <td>-0.141516</td>\n",
       "      <td>-0.21247</td>\n",
       "      <td>-0.228783</td>\n",
       "      <td>-0.325029</td>\n",
       "      <td>2.986985</td>\n",
       "      <td>-0.325029</td>\n",
       "      <td>-0.307499</td>\n",
       "      <td>-0.332363</td>\n",
       "      <td>-0.332363</td>\n",
       "      <td>-0.344375</td>\n",
       "      <td>-0.344375</td>\n",
       "      <td>-0.35848</td>\n",
       "      <td>-0.327485</td>\n",
       "    </tr>\n",
       "    <tr>\n",
       "      <th>102</th>\n",
       "      <td>1.566818</td>\n",
       "      <td>0.458376</td>\n",
       "      <td>0.315037</td>\n",
       "      <td>0.331998</td>\n",
       "      <td>-0.924321</td>\n",
       "      <td>1.635594</td>\n",
       "      <td>-0.141516</td>\n",
       "      <td>3.662662</td>\n",
       "      <td>-0.561226</td>\n",
       "      <td>-0.524842</td>\n",
       "      <td>-0.247207</td>\n",
       "      <td>-0.332363</td>\n",
       "      <td>-0.109181</td>\n",
       "      <td>-0.159698</td>\n",
       "      <td>-0.198635</td>\n",
       "      <td>-0.191403</td>\n",
       "      <td>-0.159698</td>\n",
       "      <td>-0.141516</td>\n",
       "      <td>-0.18009</td>\n",
       "      <td>-0.141516</td>\n",
       "      <td>-0.21247</td>\n",
       "      <td>-0.228783</td>\n",
       "      <td>-0.325029</td>\n",
       "      <td>-0.334786</td>\n",
       "      <td>-0.325029</td>\n",
       "      <td>-0.307499</td>\n",
       "      <td>-0.332363</td>\n",
       "      <td>-0.332363</td>\n",
       "      <td>-0.344375</td>\n",
       "      <td>-0.344375</td>\n",
       "      <td>-0.35848</td>\n",
       "      <td>3.053576</td>\n",
       "    </tr>\n",
       "    <tr>\n",
       "      <th>238</th>\n",
       "      <td>0.588111</td>\n",
       "      <td>-0.334442</td>\n",
       "      <td>0.505493</td>\n",
       "      <td>-1.183757</td>\n",
       "      <td>-0.924321</td>\n",
       "      <td>0.598587</td>\n",
       "      <td>-0.141516</td>\n",
       "      <td>-0.273025</td>\n",
       "      <td>1.781815</td>\n",
       "      <td>-0.524842</td>\n",
       "      <td>-0.247207</td>\n",
       "      <td>-0.332363</td>\n",
       "      <td>-0.109181</td>\n",
       "      <td>-0.159698</td>\n",
       "      <td>-0.198635</td>\n",
       "      <td>-0.191403</td>\n",
       "      <td>-0.159698</td>\n",
       "      <td>-0.141516</td>\n",
       "      <td>-0.18009</td>\n",
       "      <td>-0.141516</td>\n",
       "      <td>-0.21247</td>\n",
       "      <td>-0.228783</td>\n",
       "      <td>-0.325029</td>\n",
       "      <td>-0.334786</td>\n",
       "      <td>-0.325029</td>\n",
       "      <td>3.252039</td>\n",
       "      <td>-0.332363</td>\n",
       "      <td>-0.332363</td>\n",
       "      <td>-0.344375</td>\n",
       "      <td>-0.344375</td>\n",
       "      <td>-0.35848</td>\n",
       "      <td>-0.327485</td>\n",
       "    </tr>\n",
       "    <tr>\n",
       "      <th>407</th>\n",
       "      <td>-1.018376</td>\n",
       "      <td>-1.014001</td>\n",
       "      <td>-1.646411</td>\n",
       "      <td>-0.865508</td>\n",
       "      <td>-0.924321</td>\n",
       "      <td>1.635594</td>\n",
       "      <td>-0.141516</td>\n",
       "      <td>-0.273025</td>\n",
       "      <td>1.781815</td>\n",
       "      <td>-0.524842</td>\n",
       "      <td>-0.247207</td>\n",
       "      <td>-0.332363</td>\n",
       "      <td>-0.109181</td>\n",
       "      <td>-0.159698</td>\n",
       "      <td>-0.198635</td>\n",
       "      <td>-0.191403</td>\n",
       "      <td>-0.159698</td>\n",
       "      <td>-0.141516</td>\n",
       "      <td>-0.18009</td>\n",
       "      <td>-0.141516</td>\n",
       "      <td>-0.21247</td>\n",
       "      <td>-0.228783</td>\n",
       "      <td>-0.325029</td>\n",
       "      <td>-0.334786</td>\n",
       "      <td>-0.325029</td>\n",
       "      <td>-0.307499</td>\n",
       "      <td>-0.332363</td>\n",
       "      <td>3.008759</td>\n",
       "      <td>-0.344375</td>\n",
       "      <td>-0.344375</td>\n",
       "      <td>-0.35848</td>\n",
       "      <td>-0.327485</td>\n",
       "    </tr>\n",
       "  </tbody>\n",
       "</table>\n",
       "</div>"
      ],
      "text/plain": [
       "     Daily Time Spent on Site       Age  Area Income  Daily Internet Usage  \\\n",
       "96                  -1.207338  0.005337    -2.551231             -0.590625   \n",
       "754                  0.748194  0.005337     1.346263              0.753271   \n",
       "102                  1.566818  0.458376     0.315037              0.331998   \n",
       "238                  0.588111 -0.334442     0.505493             -1.183757   \n",
       "407                 -1.018376 -1.014001    -1.646411             -0.865508   \n",
       "\n",
       "         Male     Month  province_Bali  province_Banten  province_Jakarta  \\\n",
       "96   1.081875  0.080083      -0.141516         3.662662         -0.561226   \n",
       "754 -0.924321  1.635594      -0.141516        -0.273025         -0.561226   \n",
       "102 -0.924321  1.635594      -0.141516         3.662662         -0.561226   \n",
       "238 -0.924321  0.598587      -0.141516        -0.273025          1.781815   \n",
       "407 -0.924321  1.635594      -0.141516        -0.273025          1.781815   \n",
       "\n",
       "     province_Jawa Barat  province_Jawa Tengah  province_Jawa Timur  \\\n",
       "96             -0.524842             -0.247207            -0.332363   \n",
       "754            -0.524842             -0.247207             3.008759   \n",
       "102            -0.524842             -0.247207            -0.332363   \n",
       "238            -0.524842             -0.247207            -0.332363   \n",
       "407            -0.524842             -0.247207            -0.332363   \n",
       "\n",
       "     province_Kalimantan Barat  province_Kalimantan Selatan  \\\n",
       "96                   -0.109181                    -0.159698   \n",
       "754                  -0.109181                    -0.159698   \n",
       "102                  -0.109181                    -0.159698   \n",
       "238                  -0.109181                    -0.159698   \n",
       "407                  -0.109181                    -0.159698   \n",
       "\n",
       "     province_Kalimantan Timur  province_Kepulauan Riau  province_Lampung  \\\n",
       "96                   -0.198635                -0.191403         -0.159698   \n",
       "754                  -0.198635                -0.191403         -0.159698   \n",
       "102                  -0.198635                -0.191403         -0.159698   \n",
       "238                  -0.198635                -0.191403         -0.159698   \n",
       "407                  -0.198635                -0.191403         -0.159698   \n",
       "\n",
       "     province_Riau  province_Sulawesi Selatan  province_Sumatra Barat  \\\n",
       "96       -0.141516                   -0.18009               -0.141516   \n",
       "754      -0.141516                   -0.18009               -0.141516   \n",
       "102      -0.141516                   -0.18009               -0.141516   \n",
       "238      -0.141516                   -0.18009               -0.141516   \n",
       "407      -0.141516                   -0.18009               -0.141516   \n",
       "\n",
       "     province_Sumatra Selatan  province_Sumatra Utara  category_Bank  \\\n",
       "96                   -0.21247               -0.228783      -0.325029   \n",
       "754                  -0.21247               -0.228783      -0.325029   \n",
       "102                  -0.21247               -0.228783      -0.325029   \n",
       "238                  -0.21247               -0.228783      -0.325029   \n",
       "407                  -0.21247               -0.228783      -0.325029   \n",
       "\n",
       "     category_Electronic  category_Fashion  category_Finance  category_Food  \\\n",
       "96             -0.334786         -0.325029         -0.307499      -0.332363   \n",
       "754             2.986985         -0.325029         -0.307499      -0.332363   \n",
       "102            -0.334786         -0.325029         -0.307499      -0.332363   \n",
       "238            -0.334786         -0.325029          3.252039      -0.332363   \n",
       "407            -0.334786         -0.325029         -0.307499      -0.332363   \n",
       "\n",
       "     category_Furniture  category_Health  category_House  category_Otomotif  \\\n",
       "96            -0.332363        -0.344375       -0.344375           -0.35848   \n",
       "754           -0.332363        -0.344375       -0.344375           -0.35848   \n",
       "102           -0.332363        -0.344375       -0.344375           -0.35848   \n",
       "238           -0.332363        -0.344375       -0.344375           -0.35848   \n",
       "407            3.008759        -0.344375       -0.344375           -0.35848   \n",
       "\n",
       "     category_Travel  \n",
       "96          3.053576  \n",
       "754        -0.327485  \n",
       "102         3.053576  \n",
       "238        -0.327485  \n",
       "407        -0.327485  "
      ]
     },
     "execution_count": 30,
     "metadata": {},
     "output_type": "execute_result"
    }
   ],
   "source": [
    "## Skenario 2 (Dengan Scalling)\n",
    "X_train_scal= train.drop(columns='Clicked on Ad')\n",
    "y_train_scal= train['Clicked on Ad']\n",
    "X_test_scal= test.drop(columns= 'Clicked on Ad')\n",
    "y_test_scal= test['Clicked on Ad']\n",
    "\n",
    "X_train_scal.head()"
   ]
  },
  {
   "cell_type": "markdown",
   "id": "b86234b3",
   "metadata": {},
   "source": [
    "# MODELING - CLASSIFICATION"
   ]
  },
  {
   "cell_type": "code",
   "execution_count": 31,
   "id": "d06a545d",
   "metadata": {},
   "outputs": [],
   "source": [
    "## Packages\n",
    "from sklearn.metrics import accuracy_score, precision_score, recall_score, f1_score, roc_curve, auc, precision_recall_fscore_support\n",
    "from sklearn.linear_model import LogisticRegression\n",
    "from sklearn.neighbors import KNeighborsClassifier\n",
    "from sklearn.tree import DecisionTreeClassifier\n",
    "from sklearn.ensemble import RandomForestClassifier\n",
    "\n",
    "from sklearn.metrics import classification_report,confusion_matrix, ConfusionMatrixDisplay\n",
    "from sklearn.metrics import plot_confusion_matrix"
   ]
  },
  {
   "cell_type": "code",
   "execution_count": 32,
   "id": "904077db",
   "metadata": {},
   "outputs": [],
   "source": [
    "def evaluation(model, pred, xtrain, ytrain, xtest, ytest):\n",
    "    acuracy=accuracy_score(ytest, pred)\n",
    "    precision = precision_score(ytest, pred)\n",
    "    recall = recall_score(ytest, pred)\n",
    "    f1 = f1_score(ytest, pred)\n",
    "\n",
    "    print(\"Accuracy (Train Set): %.2f\" % model.score(xtrain, ytrain))\n",
    "    print(\"Accuracy (Test Set): %.2f\" % acuracy)\n",
    "    print(\"\\nPrecision (Test Set): %.2f\" % precision)\n",
    "    print(\"Recall (Test Set): %.2f\" % recall)\n",
    "    print(\"F1-Score (Test Set): %.2f\" % f1)\n",
    "\n",
    "    fpr, tpr, thresholds = roc_curve(ytest, pred, pos_label=1)\n",
    "    roc_auc = auc(fpr, tpr)\n",
    "    print(\"AUC: %.2f\" % roc_auc)\n",
    "\n",
    "    return acuracy, precision, recall, f1, roc_auc\n",
    "metrics,accuracy,precision,recall,f1,roc_auc = [],[],[],[],[],[]\n",
    "\n",
    "def evaluate_prediction(y_test, y_pred):\n",
    "\n",
    "  # Calculate model accuracy\n",
    "  model_accuracy = accuracy_score(y_test, y_pred) * 100\n",
    "\n",
    "  # Calculate model precision, recall and f1 score using \"weighted average\n",
    "  model_precision, model_recall, model_f1, _ = precision_recall_fscore_support(y_test, y_pred, average=\"weighted\")\n",
    "  model_evaluation = {\"accuracy\": model_accuracy,\n",
    "                      \"precision\": model_precision,\n",
    "                      \"recall\": model_recall,\n",
    "                      \"f1\": model_f1}\n",
    "  return model_evaluation"
   ]
  },
  {
   "cell_type": "markdown",
   "id": "135e2a7a",
   "metadata": {},
   "source": [
    "## Logistic Regression"
   ]
  },
  {
   "cell_type": "code",
   "execution_count": 33,
   "id": "84e45ecb",
   "metadata": {},
   "outputs": [
    {
     "name": "stdout",
     "output_type": "stream",
     "text": [
      "Accuracy (Train Set): 0.50\n",
      "Accuracy (Test Set): 0.50\n",
      "\n",
      "Precision (Test Set): 0.00\n",
      "Recall (Test Set): 0.00\n",
      "F1-Score (Test Set): 0.00\n",
      "AUC: 0.50\n"
     ]
    }
   ],
   "source": [
    "## Skenario 1 (Tanpa scalling)\n",
    "logreg = LogisticRegression()\n",
    "lr1= logreg.fit(X_train, y_train)\n",
    "y_pred = logreg.predict(X_test)\n",
    "\n",
    "eval = evaluation(logreg, y_pred, X_train, y_train, X_test, y_test)"
   ]
  },
  {
   "cell_type": "code",
   "execution_count": 51,
   "id": "8c48493f",
   "metadata": {},
   "outputs": [
    {
     "name": "stdout",
     "output_type": "stream",
     "text": [
      "Accuracy (Train Set): 0.97\n",
      "Accuracy (Test Set): 0.96\n",
      "\n",
      "Precision (Test Set): 0.94\n",
      "Recall (Test Set): 0.98\n",
      "F1-Score (Test Set): 0.96\n",
      "AUC: 0.96\n"
     ]
    }
   ],
   "source": [
    "## Skenario 2 (Dengan scalling)\n",
    "logreg = LogisticRegression()\n",
    "lr2= logreg.fit(X_train_scal, y_train_scal)\n",
    "y_pred_scal = logreg.predict(X_test_scal)\n",
    "\n",
    "eval_lr = evaluation(logreg, y_pred_scal, X_train_scal, y_train_scal, X_test_scal, y_test_scal)"
   ]
  },
  {
   "cell_type": "code",
   "execution_count": 54,
   "id": "e4a5c149",
   "metadata": {},
   "outputs": [],
   "source": [
    "eval_logreg= evaluate_prediction(y_test_scal, y_pred_scal)"
   ]
  },
  {
   "cell_type": "markdown",
   "id": "81290d77",
   "metadata": {},
   "source": [
    "## KNN"
   ]
  },
  {
   "cell_type": "code",
   "execution_count": 55,
   "id": "d5556eaa",
   "metadata": {},
   "outputs": [
    {
     "name": "stdout",
     "output_type": "stream",
     "text": [
      "Accuracy (Train Set): 0.76\n",
      "Accuracy (Test Set): 0.68\n",
      "\n",
      "Precision (Test Set): 0.70\n",
      "Recall (Test Set): 0.62\n",
      "F1-Score (Test Set): 0.66\n",
      "AUC: 0.68\n"
     ]
    }
   ],
   "source": [
    "## Skenario 1 (Tanpa scalling)\n",
    "knn = KNeighborsClassifier()\n",
    "knn1= knn.fit(X_train, y_train)\n",
    "y_pred = knn.predict(X_test)\n",
    "\n",
    "eval = evaluation(knn, y_pred, X_train, y_train, X_test, y_test)"
   ]
  },
  {
   "cell_type": "code",
   "execution_count": 56,
   "id": "ab4a6bee",
   "metadata": {},
   "outputs": [
    {
     "name": "stdout",
     "output_type": "stream",
     "text": [
      "Accuracy (Train Set): 0.91\n",
      "Accuracy (Test Set): 0.86\n",
      "\n",
      "Precision (Test Set): 0.88\n",
      "Recall (Test Set): 0.84\n",
      "F1-Score (Test Set): 0.86\n",
      "AUC: 0.86\n"
     ]
    }
   ],
   "source": [
    "## Skenario 2 (Dengan scalling)\n",
    "knn = KNeighborsClassifier()\n",
    "knn2= knn.fit(X_train_scal, y_train_scal)\n",
    "y_pred_scal = knn.predict(X_test_scal)\n",
    "\n",
    "evalknn = evaluation(knn, y_pred_scal, X_train_scal, y_train_scal, X_test_scal, y_test_scal)"
   ]
  },
  {
   "cell_type": "code",
   "execution_count": 57,
   "id": "54f53ad9",
   "metadata": {},
   "outputs": [],
   "source": [
    "eval_knn= evaluate_prediction(y_test_scal, y_pred_scal)"
   ]
  },
  {
   "cell_type": "markdown",
   "id": "b599e780",
   "metadata": {},
   "source": [
    "## Random Forest"
   ]
  },
  {
   "cell_type": "code",
   "execution_count": 62,
   "id": "659bf34d",
   "metadata": {},
   "outputs": [
    {
     "name": "stdout",
     "output_type": "stream",
     "text": [
      "Accuracy (Train Set): 0.98\n",
      "Accuracy (Test Set): 0.97\n",
      "\n",
      "Precision (Test Set): 0.96\n",
      "Recall (Test Set): 0.98\n",
      "F1-Score (Test Set): 0.97\n",
      "AUC: 0.97\n"
     ]
    }
   ],
   "source": [
    "## Skenario 1\n",
    "rfc = RandomForestClassifier(max_depth=4, random_state=32)\n",
    "rfc1= rfc.fit(X_train, y_train)\n",
    "y_pred = rfc.predict(X_test)\n",
    "eval= evaluation(rfc, y_pred, X_train, y_train, X_test, y_test)"
   ]
  },
  {
   "cell_type": "code",
   "execution_count": 63,
   "id": "7d552bf1",
   "metadata": {
    "scrolled": true
   },
   "outputs": [
    {
     "name": "stdout",
     "output_type": "stream",
     "text": [
      "Accuracy (Train Set): 0.98\n",
      "Accuracy (Test Set): 0.97\n",
      "\n",
      "Precision (Test Set): 0.96\n",
      "Recall (Test Set): 0.98\n",
      "F1-Score (Test Set): 0.97\n",
      "AUC: 0.97\n"
     ]
    }
   ],
   "source": [
    "## Skenario 2\n",
    "rfc.fit(X_train_scal, y_train_scal)\n",
    "y_pred_scal= rfc.predict(X_test_scal)\n",
    "evalrf= evaluation(rfc, y_pred_scal, X_train_scal, y_train_scal, X_test_scal, y_test_scal)"
   ]
  },
  {
   "cell_type": "code",
   "execution_count": 64,
   "id": "47c72e69",
   "metadata": {},
   "outputs": [],
   "source": [
    "eval_rf= evaluate_prediction(y_test_scal, y_pred_scal)"
   ]
  },
  {
   "cell_type": "markdown",
   "id": "abd79ea9",
   "metadata": {},
   "source": [
    "## Compare Results"
   ]
  },
  {
   "cell_type": "code",
   "execution_count": 65,
   "id": "d7bc961b",
   "metadata": {
    "scrolled": false
   },
   "outputs": [
    {
     "data": {
      "text/html": [
       "<div>\n",
       "<style scoped>\n",
       "    .dataframe tbody tr th:only-of-type {\n",
       "        vertical-align: middle;\n",
       "    }\n",
       "\n",
       "    .dataframe tbody tr th {\n",
       "        vertical-align: top;\n",
       "    }\n",
       "\n",
       "    .dataframe thead th {\n",
       "        text-align: right;\n",
       "    }\n",
       "</style>\n",
       "<table border=\"1\" class=\"dataframe\">\n",
       "  <thead>\n",
       "    <tr style=\"text-align: right;\">\n",
       "      <th></th>\n",
       "      <th>accuracy</th>\n",
       "      <th>precision</th>\n",
       "      <th>recall</th>\n",
       "      <th>f1</th>\n",
       "    </tr>\n",
       "  </thead>\n",
       "  <tbody>\n",
       "    <tr>\n",
       "      <th>Logistic</th>\n",
       "      <td>95.811518</td>\n",
       "      <td>0.958929</td>\n",
       "      <td>0.958115</td>\n",
       "      <td>0.958101</td>\n",
       "    </tr>\n",
       "    <tr>\n",
       "      <th>Knn</th>\n",
       "      <td>86.387435</td>\n",
       "      <td>0.864484</td>\n",
       "      <td>0.863874</td>\n",
       "      <td>0.863800</td>\n",
       "    </tr>\n",
       "    <tr>\n",
       "      <th>Random Forest</th>\n",
       "      <td>96.858639</td>\n",
       "      <td>0.968795</td>\n",
       "      <td>0.968586</td>\n",
       "      <td>0.968585</td>\n",
       "    </tr>\n",
       "  </tbody>\n",
       "</table>\n",
       "</div>"
      ],
      "text/plain": [
       "                accuracy  precision    recall        f1\n",
       "Logistic       95.811518   0.958929  0.958115  0.958101\n",
       "Knn            86.387435   0.864484  0.863874  0.863800\n",
       "Random Forest  96.858639   0.968795  0.968586  0.968585"
      ]
     },
     "execution_count": 65,
     "metadata": {},
     "output_type": "execute_result"
    }
   ],
   "source": [
    "model_evaluations = pd.DataFrame({\"Logistic\": eval_logreg,\n",
    "                                  \"Knn\": eval_knn,\n",
    "                                  \"Random Forest\":eval_rf}).T\n",
    "model_evaluations"
   ]
  },
  {
   "cell_type": "markdown",
   "id": "4a36e7e0",
   "metadata": {},
   "source": [
    "Tujuan pembuatan model ini adalah untuk mempelajari 'kriteria' visitor yang akan mengklik iklan atau tidak, sehingga tidak ada kepentingan antar label dan dataset yang balance. Maka, metrics yang digunakan adalah **accuracy**. Berdasarkan ketiga algoritma yang sudah digunakan, algoritma Random Forest (skenario 2) adalah yang memberikan hasil accurcay test terbesar. Sehingga, dalam model ini, saya akan memilih feature importance berdasarkan algoritma Random Forest."
   ]
  },
  {
   "cell_type": "code",
   "execution_count": 43,
   "id": "dcfb1b7e",
   "metadata": {},
   "outputs": [
    {
     "data": {
      "image/png": "[encoded data removed]",
      "text/plain": [
       "<Figure size 720x576 with 1 Axes>"
      ]
     },
     "metadata": {
      "needs_background": "light"
     },
     "output_type": "display_data"
    }
   ],
   "source": [
    "feat_importances= pd.Series(rfc.feature_importances_, index=X.columns)\n",
    "ax= feat_importances.nlargest(25).plot(kind='barh', figsize=(10, 8))\n",
    "ax.invert_yaxis()\n",
    "\n",
    "plt.xlabel('score')\n",
    "plt.ylabel('feature')\n",
    "plt.title('feature importance score');"
   ]
  },
  {
   "cell_type": "code",
   "execution_count": 67,
   "id": "77c989ca",
   "metadata": {
    "scrolled": true
   },
   "outputs": [
    {
     "data": {
      "image/png": "[encoded data removed]",
      "text/plain": [
       "<Figure size 432x288 with 2 Axes>"
      ]
     },
     "metadata": {
      "needs_background": "light"
     },
     "output_type": "display_data"
    }
   ],
   "source": [
    "plot_confusion_matrix(rfc, X_test_scal, y_test_scal, \n",
    "                      values_format='d', display_labels=[\"Not Clicke Ad\", \"Clicked Ad\"])\n",
    "\n",
    "plt.savefig('Pict/Conf Matrix RF.png', dpi=150);"
   ]
  },
  {
   "cell_type": "markdown",
   "id": "9852746e",
   "metadata": {},
   "source": [
    "## Interpretasi\n",
    "\n",
    "Berdasarkan pemodelan yang telah dilakukan, Random Forest menyatakan beberapa feature terpenting yang sangat mempengaruhi model. Berikut 4 terbesar diantaranya:\n",
    "- Daily internet usage\n",
    "- Daily time spent on site\n",
    "- Age\n",
    "- Area Income\n",
    "\n",
    "Sehingga, sebagai user dalam bisnis dapat menggunakan parameter utama tersebut dalam melakukan sasaran ads."
   ]
  },
  {
   "cell_type": "markdown",
   "id": "54bb20de",
   "metadata": {},
   "source": [
    "# Simulasi Bisnis"
   ]
  },
  {
   "cell_type": "code",
   "execution_count": 45,
   "id": "cc1ec8f7",
   "metadata": {},
   "outputs": [
    {
     "data": {
      "text/plain": [
       "(191,)"
      ]
     },
     "execution_count": 45,
     "metadata": {},
     "output_type": "execute_result"
    }
   ],
   "source": [
    "## Data test\n",
    "y_test.shape"
   ]
  },
  {
   "cell_type": "markdown",
   "id": "10ea2c32",
   "metadata": {},
   "source": [
    "### 1. Tanpa Machine Learning"
   ]
  },
  {
   "cell_type": "markdown",
   "id": "93a5564d",
   "metadata": {},
   "source": [
    "Kita memiliki sampel test sebanyak 191 user. Apabila strategi ads ini dilakukan tanpa machine learning (seperti dataset ini), maka:\n",
    "1. Kita akan menggunakan budget 2000*191 = Rp 382.000 untuk melakukan ads\n",
    "2. Total cost ads = Rp 382.000\n",
    "3. Convertion rate (iklan)= 50% atau 96 user (sesuai data awal di dataset ini)\n",
    "4. **Cost ads per customer sebesar Rp 382.000/96 = Rp 3979/per customer**"
   ]
  },
  {
   "cell_type": "markdown",
   "id": "d0d7b713",
   "metadata": {},
   "source": [
    "### 2. Dengan Machine Learning"
   ]
  },
  {
   "cell_type": "code",
   "execution_count": 69,
   "id": "dc4f9ffd",
   "metadata": {},
   "outputs": [
    {
     "data": {
      "image/png": "[encoded data removed]",
      "text/plain": [
       "<Figure size 720x576 with 1 Axes>"
      ]
     },
     "metadata": {
      "needs_background": "light"
     },
     "output_type": "display_data"
    }
   ],
   "source": [
    "plt.figure(figsize=(10,8))\n",
    "img= mpimg.imread('Pict/conf matrix.png')\n",
    "plt.imshow(img);"
   ]
  },
  {
   "cell_type": "markdown",
   "id": "09fdae48",
   "metadata": {},
   "source": [
    "Kita hanya akan melakukan ads hanya pada user yang kita prediksi akan mengklik iklan, maka:\n",
    "1. kita akan berfokus pada 97 user tersebut, sehingga 2000*97= Rp 194.000\n",
    "2. Total cost ads = Rp 194.000\n",
    "3. Convertion rate (iklan)= 95.87% atau 93 dari 97 user\n",
    "4. **Cost ads per customer sebesar Rp 194.000/97 = Rp 2086 per customer**"
   ]
  },
  {
   "cell_type": "markdown",
   "id": "a0d2f597",
   "metadata": {},
   "source": [
    "### Kesimpulan"
   ]
  },
  {
   "cell_type": "markdown",
   "id": "25747146",
   "metadata": {},
   "source": [
    "Melakukan advertising dengan menggunakan machine learning jauh lebih efisien, karena machine learning dengan algoritma-nya telah mempelajari user-user mana yang berpotensi mengklik iklan tersebut. Sehingga, jenis user yang menjadi sasaran iklan dapat teridentifikasi dengan baik lewat feature importance yang telah ditampilkan. Seperti contohnya pada kasus ini, dengan Machine Learning dapat meningkatkan convertion rate (iklan) dari yang awalnya hanya 50% menjadi 95.87%. Peningkatan efektivitas tersebut juga akan **me-reduce cost ads per customer hingga 47.57%!**"
   ]
  },
  {
   "cell_type": "markdown",
   "id": "f0d18a09",
   "metadata": {},
   "source": [
    "# Sekian~\n",
    "Apabila ada yang ingin didiskusikan feel free to ask me on LinkedIn :)"
   ]
  }
 ],
 "metadata": {
  "kernelspec": {
   "display_name": "Python 3 (ipykernel)",
   "language": "python",
   "name": "python3"
  },
  "language_info": {
   "codemirror_mode": {
    "name": "ipython",
    "version": 3
   },
   "file_extension": ".py",
   "mimetype": "text/x-python",
   "name": "python",
   "nbconvert_exporter": "python",
   "pygments_lexer": "ipython3",
   "version": "3.9.12"
  }
 },
 "nbformat": 4,
 "nbformat_minor": 5
}
